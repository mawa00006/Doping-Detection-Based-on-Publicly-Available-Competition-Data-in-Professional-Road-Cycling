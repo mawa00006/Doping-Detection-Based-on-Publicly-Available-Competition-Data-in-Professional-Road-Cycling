{
 "cells": [
  {
   "cell_type": "code",
   "execution_count": null,
   "metadata": {
    "collapsed": true
   },
   "outputs": [],
   "source": [
    "import tensorflow as tf\n",
    "from tensorflow import keras\n",
    "from keras.layers import LSTM\n",
    "from keras.layers import Dense\n",
    "from keras.models import load_model\n",
    "#from google.colab import drive\n",
    "import matplotlib.pyplot as plt\n",
    "\n",
    "\n",
    "import pandas as pd\n",
    "import numpy as np\n",
    "from sklearn.model_selection import train_test_split\n",
    "from sklearn.utils import compute_class_weight"
   ]
  },
  {
   "cell_type": "code",
   "execution_count": null,
   "outputs": [],
   "source": [
    "df = pd.read_csv('labeled_data.csv')"
   ],
   "metadata": {
    "collapsed": false,
    "pycharm": {
     "name": "#%%\n"
    }
   }
  },
  {
   "cell_type": "code",
   "execution_count": null,
   "outputs": [],
   "source": [
    "def split_test_train(df, doped = 0):\n",
    "    '''\n",
    "    SUMMARY\n",
    "    Splits dataframe into test and train set\n",
    "    PARAMETERS\n",
    "    pd.DataFrame: (df) Dataframe to split\n",
    "    int: (doped) default = 0, 1 if doped\n",
    "    OUTPUT\n",
    "    np.Array: x_train, x_test, y_train, y_test\n",
    "    '''\n",
    "    df = df[df['race_class'].isin(['(2.UWT)' ,'(WT)' , '(WC)' ,'(1.UWT)' , '(1.Pro)' , '(2.Pro)' ])]\n",
    "    # get all unique rider names\n",
    "    names = df.rider_name.unique()\n",
    "\n",
    "    # prepare lists\n",
    "    x = []\n",
    "    y = []\n",
    "    i = 0\n",
    "    # split data into one sequence per rider\n",
    "    for name in names:\n",
    "\n",
    "        rider_df = df[df['rider_name'] == name].copy()\n",
    "        years = rider_df.year.unique()\n",
    "        rider_df.sort_values(by=\"date\", inplace=True)\n",
    "        group = rider_df.groupby('year')\n",
    "\n",
    "        for year in years:\n",
    "            perf = group.get_group(year)\n",
    "        perf = rider_df[['finish_pos', 'gc_pos', 'rider_age',\n",
    "                        'uci_points', 'points', 'race_ranking', 'vertical_meters',\n",
    "                        'startlist_quality_score']].fillna(0)\n",
    "        #perf['gc_pos'] = perf['gc_pos'].fillna(0)\n",
    "        y.append(doped)\n",
    "\n",
    "        x.append(perf.to_numpy())\n",
    "\n",
    "\n",
    "    return train_test_split(x, y, random_state= 1)\n",
    "\n",
    "###########################################################################################\n",
    "\n",
    "def load_data(df):\n",
    "\n",
    "    # load dataframe\n",
    "    data = df\n",
    "    clean = data[data['doped'] == 0]\n",
    "    doped = data[data['doped'] == 1]\n",
    "\n",
    "    # get train and test sets\n",
    "    x_train, x_test, y_train, y_test = split_test_train(clean)\n",
    "    x_train_doped, x_test_doped, y_train_doped, y_test_doped = split_test_train(doped, 1)\n",
    "\n",
    "    x_train = np.append(x_train, x_train_doped)\n",
    "    x_test = np.append(x_test, x_test_doped)\n",
    "    y_train = np.append(y_train, y_train_doped)\n",
    "    y_test = np.append(y_test, y_test_doped)\n",
    "\n",
    "    x_test, x_val, y_test, y_val = train_test_split(x_test,y_test, random_state = 1)\n",
    "\n",
    "    return x_train, x_test, y_train, y_test, x_val, y_val"
   ],
   "metadata": {
    "collapsed": false,
    "pycharm": {
     "name": "#%%\n"
    }
   }
  },
  {
   "cell_type": "code",
   "execution_count": null,
   "outputs": [],
   "source": [
    "%%time\n",
    "model = keras.models.Sequential()\n",
    "model.add(LSTM((128), batch_input_shape =(None, None, 8), return_sequences = False ))\n",
    "model.add(Dense(1))\n",
    "\n",
    "model.compile(\n",
    "    loss = keras.losses.BinaryCrossentropy(from_logits = True),\n",
    "    optimizer = keras.optimizers.Adam(learning_rate=0.001),\n",
    "    metrics = ['accuracy', keras.metrics.AUC(from_logits = True)])\n",
    "\n",
    "x_train, x_test, y_train, y_test, x_val, y_val = load_data(df)\n",
    "\n",
    "\n",
    "model.summary()"
   ],
   "metadata": {
    "collapsed": false,
    "pycharm": {
     "name": "#%%\n"
    }
   }
  },
  {
   "cell_type": "code",
   "execution_count": null,
   "outputs": [],
   "source": [
    "x_train = keras.preprocessing.sequence.pad_sequences(x_train, dtype = 'float32')\n",
    "x_test = keras.preprocessing.sequence.pad_sequences(x_test, dtype = 'float32')\n",
    "x_val = keras.preprocessing.sequence.pad_sequences(x_val, dtype = 'float32')"
   ],
   "metadata": {
    "collapsed": false,
    "pycharm": {
     "name": "#%%\n"
    }
   }
  },
  {
   "cell_type": "code",
   "execution_count": null,
   "outputs": [],
   "source": [
    "class_weights = compute_class_weight(class_weight= 'balanced', classes=np.unique(y_train),y = y_train)\n",
    "labels = [0,1]\n",
    "class_weights = dict(zip(labels, class_weights))"
   ],
   "metadata": {
    "collapsed": false,
    "pycharm": {
     "name": "#%%\n"
    }
   }
  },
  {
   "cell_type": "code",
   "execution_count": null,
   "outputs": [],
   "source": [
    "callback = tf.keras.callbacks.EarlyStopping(monitor='loss', patience=200, restore_best_weights=True)\n",
    "history = model.fit(tf.convert_to_tensor(x_train), tf.convert_to_tensor(y_train), epochs=75, batch_size=50, verbose=1,\n",
    "                    class_weight=class_weights,\n",
    "                    validation_data=(tf.convert_to_tensor(x_test), tf.convert_to_tensor(y_test)), validation_freq=1,\n",
    "                    use_multiprocessing=True, callbacks=[callback])\n",
    "model.save('model_128_BCE_val_rs.h5')\n",
    "#with open('output_training.txt', 'w') as f:\n",
    "#    f.write(output.stdout)"
   ],
   "metadata": {
    "collapsed": false,
    "pycharm": {
     "name": "#%%\n"
    }
   }
  },
  {
   "cell_type": "code",
   "execution_count": null,
   "outputs": [],
   "source": [
    "f = plt.figure()\n",
    "plt.plot(history.history['loss'], label='loss')\n",
    "plt.plot(history.history['val_loss'], label='val_loss')\n",
    "plt.plot(history.history['accuracy'], label = 'accuracy')\n",
    "plt.plot(history.history['val_accuracy'], label = 'val_accuracy')\n",
    "\n",
    "plt.legend()\n",
    "plt.show()\n",
    "f.savefig(\"training_128_BCE_val_rs.png\", bbox_inches='tight', dpi=600"
   ],
   "metadata": {
    "collapsed": false,
    "pycharm": {
     "name": "#%%\n"
    }
   }
  },
  {
   "cell_type": "code",
   "execution_count": null,
   "outputs": [],
   "source": [
    "model.evaluate(x_val, y_val, verbose = 1, return_dict = True)"
   ],
   "metadata": {
    "collapsed": false,
    "pycharm": {
     "name": "#%%\n"
    }
   }
  },
  {
   "cell_type": "code",
   "execution_count": null,
   "outputs": [],
   "source": [
    "pred = model.predict(x_val)\n",
    "y_pred = [0]*pred.shape[0]\n",
    "for i in range(pred.shape[0]):\n",
    "    if pred[i]>0:\n",
    "        y_pred[i] = 1\n",
    "\n",
    "y_pred = pd.Series(y_pred, name = 'Predicted')\n",
    "y_act = pd.Series(y_val, name = 'Actual')\n",
    "conf_matrix = pd.crosstab(y_pred, y_act)\n",
    "print(conf_matrix)\n",
    "\n",
    "precision = conf_matrix.iloc[1][1]/(conf_matrix.iloc[1][0] + conf_matrix.iloc[1][1])\n",
    "recall = conf_matrix.iloc[1][1]/(conf_matrix.iloc[1][1]+ conf_matrix.iloc[0][1])\n",
    "f1 = 2*(precision*recall)/(precision+ recall)\n",
    "#print(\"F1 score:\", f1)\n",
    "print(\"Precision:\", precision)\n",
    "print(\"Recall:\", recall)"
   ],
   "metadata": {
    "collapsed": false,
    "pycharm": {
     "name": "#%%\n"
    }
   }
  }
 ],
 "metadata": {
  "kernelspec": {
   "display_name": "Python 3",
   "language": "python",
   "name": "python3"
  },
  "language_info": {
   "codemirror_mode": {
    "name": "ipython",
    "version": 2
   },
   "file_extension": ".py",
   "mimetype": "text/x-python",
   "name": "python",
   "nbconvert_exporter": "python",
   "pygments_lexer": "ipython2",
   "version": "2.7.6"
  }
 },
 "nbformat": 4,
 "nbformat_minor": 0
}